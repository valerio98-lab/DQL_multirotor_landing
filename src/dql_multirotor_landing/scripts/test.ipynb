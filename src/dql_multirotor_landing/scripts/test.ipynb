{
 "cells": [
  {
   "cell_type": "code",
   "execution_count": null,
   "metadata": {},
   "outputs": [
    {
     "data": {
      "text/plain": [
       "[1.0, 0.64, 0.4096, 0.262144, 0.16777216]"
      ]
     },
     "execution_count": 4,
     "metadata": {},
     "output_type": "execute_result"
    }
   ],
   "source": [
    "from dataclasses import dataclass,field\n",
    "from typing import List\n",
    "@dataclass\n",
    "class Limits:\n",
    "    current_curriculum_step: int\n",
    "    _position: List[float] = field(\n",
    "        default_factory=lambda: [1.0, 0.64, 0.4096, 0.262144, 0.16777216]\n",
    "    )\n",
    "    _velocity: List[float] = field(\n",
    "        default_factory=lambda: [1.0, 0.8, 0.64, 0.512, 0.4096]\n",
    "    )\n",
    "    _acceleration: List[float] = field(\n",
    "        default_factory=lambda: [1.0, 1.0, 1.0, 1.0, 1.0]\n",
    "    )\n",
    "\n",
    "    @property\n",
    "    def position(self) -> List[float]:\n",
    "        return self._position[: self.current_curriculum_step + 1]\n",
    "\n",
    "    @property\n",
    "    def velocity(self) -> List[float]:\n",
    "        return self._velocity[: self.current_curriculum_step + 1]\n",
    "\n",
    "    @property\n",
    "    def acceleration(self) -> List[float]:\n",
    "        return self._acceleration[: self.current_curriculum_step + 1]\n",
    "    \n",
    "\n",
    "Limits(5).position # ok"
   ]
  },
  {
   "cell_type": "code",
   "execution_count": null,
   "metadata": {},
   "outputs": [
    {
     "data": {
      "text/plain": [
       "RewardShapingValue(position=1, velociy=2, angle=3)"
      ]
     },
     "execution_count": 6,
     "metadata": {},
     "output_type": "execute_result"
    }
   ],
   "source": [
    "from dataclasses import dataclass,field,replace\n",
    "\n",
    "@dataclass\n",
    "class RewardShapingValue:\n",
    "    position: float = field(default_factory=lambda: 0)\n",
    "    velociy: float = field(default_factory=lambda: 0)\n",
    "    angle: float = field(default_factory=lambda: 0)\n",
    "\n",
    "a = RewardShapingValue()\n",
    "b = RewardShapingValue(1,2,3)\n",
    "a = replace(b)\n",
    "a # OK"
   ]
  }
 ],
 "metadata": {
  "kernelspec": {
   "display_name": "Python 3",
   "language": "python",
   "name": "python3"
  },
  "language_info": {
   "codemirror_mode": {
    "name": "ipython",
    "version": 3
   },
   "file_extension": ".py",
   "mimetype": "text/x-python",
   "name": "python",
   "nbconvert_exporter": "python",
   "pygments_lexer": "ipython3",
   "version": "3.8.10"
  }
 },
 "nbformat": 4,
 "nbformat_minor": 2
}
