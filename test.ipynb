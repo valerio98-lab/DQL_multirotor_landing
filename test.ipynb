{
 "cells": [
  {
   "cell_type": "code",
   "execution_count": 2,
   "metadata": {},
   "outputs": [
    {
     "data": {
      "text/plain": [
       "[5, 6]"
      ]
     },
     "execution_count": 2,
     "metadata": {},
     "output_type": "execute_result"
    }
   ],
   "source": [
    "l = [1,2,3,4,5,6]\n",
    "l[4:]"
   ]
  },
  {
   "cell_type": "code",
   "execution_count": 2,
   "metadata": {},
   "outputs": [],
   "source": [
    "import torch\n",
    "origins = [\n",
    "    [0.25, 0.25, 0.0],\n",
    "    [-0.25, 0.25, 0.0],\n",
    "    [0.25, -0.25, 0.0],\n",
    "    [-0.25, -0.25, 0.0],\n",
    "    [0.0, 0.0, 0.0],\n",
    "    [-1.0, 0.0, 0.0],\n",
    "    [0.55, 0.75, 0.0],\n",
    "    [-0.50, 0.50, 0.0],\n",
    "    [0.50, -0.55, 0.0],\n",
    "    [-1, -0.5, 0.0],\n",
    "\n",
    "]\n",
    "\n",
    "origins = {'cone': origins[:4], 'cartpole': origins[4:6], 'cube': origins[6:]}\n",
    "a = torch.tensor(origins['cone'])\n",
    "b = torch.tensor(origins['cartpole'])\n",
    "c = torch.tensor(origins['cube'])\n",
    "stack = torch.cat([a, b, c], dim=0)\n",
    "print(stack)\n",
    "print(stack.shape)\n",
    "# idx = 0\n",
    "# print(origins)\n",
    "# for k, v in origins.items():\n",
    "#     for idx, i in enumerate(v):\n",
    "#         print(f\"{idx} {k}, {i}\")\n"
   ]
  }
 ],
 "metadata": {
  "kernelspec": {
   "display_name": "quadrotor_env",
   "language": "python",
   "name": "python3"
  },
  "language_info": {
   "codemirror_mode": {
    "name": "ipython",
    "version": 3
   },
   "file_extension": ".py",
   "mimetype": "text/x-python",
   "name": "python",
   "nbconvert_exporter": "python",
   "pygments_lexer": "ipython3",
   "version": "3.10.15"
  }
 },
 "nbformat": 4,
 "nbformat_minor": 2
}
