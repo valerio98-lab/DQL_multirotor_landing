{
 "cells": [
  {
   "cell_type": "code",
   "execution_count": 2,
   "metadata": {},
   "outputs": [
    {
     "data": {
      "text/plain": [
       "[5, 6]"
      ]
     },
     "execution_count": 2,
     "metadata": {},
     "output_type": "execute_result"
    }
   ],
   "source": [
    "l = [1,2,3,4,5,6]\n",
    "l[4:]"
   ]
  },
  {
   "cell_type": "code",
   "execution_count": null,
   "metadata": {},
   "outputs": [],
   "source": []
  },
  {
   "cell_type": "code",
   "execution_count": 1,
   "metadata": {},
   "outputs": [
    {
     "name": "stdout",
     "output_type": "stream",
     "text": [
      "tensor([ 1., -1.])\n"
     ]
    },
    {
     "data": {
      "text/plain": [
       "tensor([500., -10.])"
      ]
     },
     "execution_count": 1,
     "metadata": {},
     "output_type": "execute_result"
    }
   ],
   "source": [
    "import torch\n",
    "from torch.functional import F\n",
    "\n",
    "a = F.tanh(torch.tensor([300, -100]))\n",
    "print(a)\n",
    "lim = torch.tensor([500, 10])\n",
    "a = a * lim\n",
    "# print(lim)\n",
    "# print(lim[:, 0])\n",
    "# a = torch.where(a < 0, torch.clamp_min(a, lim[:, 0]), torch.clamp_max(a, lim[:, 1]))\n",
    "# a\n",
    "a"
   ]
  },
  {
   "cell_type": "code",
   "execution_count": 13,
   "metadata": {},
   "outputs": [],
   "source": [
    "from dataclasses import dataclass\n",
    "@dataclass\n",
    "class Observations:\n",
    "    relative_position: torch.Tensor\n",
    "    relative_velocity: torch.Tensor\n",
    "    relative_acceleration: torch.Tensor\n",
    "    relative_orientation: torch.Tensor\n",
    "    target_position: torch.Tensor\n",
    "\n",
    "    def __repr__(self) -> str:\n",
    "        return str(self.__dict__)\n",
    "\n",
    "obs = Observations(\n",
    "    relative_position=torch.tensor([[1, 2, 3]]),\n",
    "    relative_velocity=torch.tensor([4, 5, 6]),\n",
    "    relative_acceleration=torch.tensor([7, 8, 9]),\n",
    "    relative_orientation=torch.tensor([10, 11, 12]),\n",
    "    target_position=torch.tensor([13, 14, 15])\n",
    ")\n",
    "obser = {\"observation\": obs}"
   ]
  },
  {
   "cell_type": "code",
   "execution_count": 51,
   "metadata": {},
   "outputs": [
    {
     "data": {
      "text/plain": [
       "tensor([0.8444, 0.2738, 0.3173])"
      ]
     },
     "execution_count": 51,
     "metadata": {},
     "output_type": "execute_result"
    }
   ],
   "source": [
    "torch.randint(0, 10, (3,)).float(),"
   ]
  }
 ],
 "metadata": {
  "kernelspec": {
   "display_name": "quadrotor_env",
   "language": "python",
   "name": "python3"
  },
  "language_info": {
   "codemirror_mode": {
    "name": "ipython",
    "version": 3
   },
   "file_extension": ".py",
   "mimetype": "text/x-python",
   "name": "python",
   "nbconvert_exporter": "python",
   "pygments_lexer": "ipython3",
   "version": "3.10.15"
  }
 },
 "nbformat": 4,
 "nbformat_minor": 2
}
